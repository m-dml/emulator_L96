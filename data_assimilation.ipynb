{
 "cells": [
  {
   "cell_type": "markdown",
   "metadata": {},
   "source": [
    "# Emulators"
   ]
  },
  {
   "cell_type": "code",
   "execution_count": null,
   "metadata": {
    "scrolled": false
   },
   "outputs": [],
   "source": [
    "%matplotlib inline\n",
    "import numpy as np\n",
    "import matplotlib.pyplot as plt\n",
    "import os\n",
    "import sys\n",
    "import L96sim\n",
    "\n",
    "from L96_emulator.util import dtype, dtype_np, device\n",
    "\n",
    "res_dir = '/gpfs/work/nonnenma/results/emulators/L96/'\n",
    "data_dir = '/gpfs/work/nonnenma/data/emulators/L96/'"
   ]
  },
  {
   "cell_type": "markdown",
   "metadata": {},
   "source": [
    "### load / simulate data"
   ]
  },
  {
   "cell_type": "code",
   "execution_count": null,
   "metadata": {
    "scrolled": true
   },
   "outputs": [],
   "source": [
    "from L96sim.L96_base import f1, f2, J1, J1_init, f1_juliadef, f2_juliadef\n",
    "from L96_emulator.util import predictor_corrector\n",
    "from L96_emulator.run import sel_dataset_class\n",
    "\n",
    "F, h, b, c = 10, 1, 10, 10\n",
    "K, J, T, dt = 36, 10, 605, 0.001\n",
    "spin_up_time, train_frac = 5., 0.8\n",
    "\n",
    "fn_data = f'out_K{K}_J{J}_T{T}_dt0_{str(dt)[2:]}'\n",
    "if J > 0:\n",
    "    def fun(t, x):\n",
    "        return f2(x, F, h, b, c, dX_dt, K, J)\n",
    "else:\n",
    "    def fun(t, x):\n",
    "        return f1(x, F, dX_dt, K)\n",
    "\n",
    "resimulate, save_sim = False, False\n",
    "if resimulate:\n",
    "    print('simulating data')\n",
    "    X_init = F * (0.5 + np.random.randn(K*(J+1)) * 1.0).astype(dtype=dtype_np) / np.maximum(J,10)\n",
    "    dX_dt = np.empty(X_init.size, dtype=X_init.dtype)\n",
    "    times = np.linspace(0, T, np.floor(T/dt)+1)\n",
    "\n",
    "    out = predictor_corrector(fun=fun, y0=X_init.copy(), times=times, alpha=0.5)\n",
    "\n",
    "    # filename for data storage\n",
    "    if save_sim: \n",
    "        np.save(data_dir + fn_data, out.astype(dtype=dtype_np))\n",
    "else:\n",
    "    print('loading data')\n",
    "    out = np.load(data_dir + fn_data + '.npy')\n",
    "\n",
    "plt.figure(figsize=(8,4))\n",
    "plt.imshow(out.T, aspect='auto')\n",
    "plt.xlabel('time')\n",
    "plt.ylabel('location')\n",
    "plt.show()\n",
    "\n",
    "\n",
    "prediction_task = 'state'\n",
    "lead_time = 1\n",
    "DatasetClass = sel_dataset_class(prediction_task=prediction_task)\n",
    "dg_train = DatasetClass(data=out, J=J, offset=lead_time, normalize=False, \n",
    "                   start=int(spin_up_time/dt), \n",
    "                   end=int(np.floor(out.shape[0]*train_frac)))"
   ]
  },
  {
   "cell_type": "markdown",
   "metadata": {},
   "source": [
    "### load model"
   ]
  },
  {
   "cell_type": "code",
   "execution_count": null,
   "metadata": {
    "scrolled": true
   },
   "outputs": [],
   "source": [
    "from L96_emulator.networks import MinimalNetL96\n",
    "from L96_emulator.util import sortL96fromChannels, sortL96intoChannels\n",
    "import torch \n",
    "\n",
    "model = MinimalNetL96(K,J,F,b,c,h,skip_conn=True,loc=1e3)\n",
    "std_out = torch.as_tensor(dg_train.std, device=device, dtype=dtype)\n",
    "mean_out = torch.as_tensor(dg_train.mean, device=device, dtype=dtype)\n",
    "\n",
    "def model_forward(x):\n",
    "    alpha = 0.5\n",
    "    ndim = x.ndim\n",
    "\n",
    "    x = sortL96fromChannels(x * std_out + mean_out) if ndim == 3 else x\n",
    "\n",
    "    f0 = model.forward(x)\n",
    "    f1 = model.forward(x + dt*f0)\n",
    "\n",
    "    x = x + dt * (alpha*f0 + (1-alpha)*f1)\n",
    "    x = (sortL96intoChannels(x, J=J) - mean_out) / std_out\n",
    "\n",
    "    return  sortL96fromChannels(x) if ndim == 2 else x"
   ]
  },
  {
   "cell_type": "markdown",
   "metadata": {},
   "source": [
    "### example rollout"
   ]
  },
  {
   "cell_type": "code",
   "execution_count": null,
   "metadata": {
    "scrolled": false
   },
   "outputs": [],
   "source": [
    "from L96_emulator.eval import get_rollout_fun, plot_rollout\n",
    "from L96_emulator.eval import solve_from_init\n",
    "\n",
    "model_simulate = get_rollout_fun(dg_train, model_forward, prediction_task)\n",
    "\n",
    "T_start, T_dur = 100*int(spin_up_time/dt), 10000\n",
    "out_model = model_simulate(y0=dg_train[T_start].copy(), \n",
    "                           dy0=dg_train[T_start]-dg_train[T_start-dg_train.offset],\n",
    "                           T=T_dur)\n",
    "out_model = sortL96fromChannels(out_model * dg_train.std + dg_train.mean)\n",
    "\n",
    "solver_comparison = True \n",
    "if solver_comparison:\n",
    "    try: \n",
    "        print(F, h, b, c)\n",
    "    except: \n",
    "        F, h, b, c = 10, 1, 10, 10\n",
    "\n",
    "    out2 = solve_from_init(K, J, \n",
    "                           T_burnin=T_start, T_=T_dur, dt=dt, \n",
    "                           F=F, h=h, b=b, c=c, \n",
    "                           data=out, dilation=2, norm_mean=0., norm_std=1.)\n",
    "\n",
    "fig = plot_rollout(out, out_model, out_comparison=out2, T_start=T_start, T_dur=T_dur, K=None)\n"
   ]
  },
  {
   "cell_type": "markdown",
   "metadata": {},
   "source": [
    "# Solving a fully-observed inverse problem"
   ]
  },
  {
   "cell_type": "code",
   "execution_count": null,
   "metadata": {
    "scrolled": false
   },
   "outputs": [],
   "source": [
    "\"\"\"\n",
    "from L96_emulator.eval import Rollout\n",
    "\n",
    "T_start = np.array([5000, 10000, 150000])\n",
    "T, N = 10, len(T_start)\n",
    "\n",
    "roller_outer = Rollout(model_forward, prediction_task='state', K=K, J=J, N=N)\n",
    "x_init = roller_outer.X.detach().numpy().copy()\n",
    "\n",
    "target = torch.as_tensor(out[T_start+T], dtype=dtype, device=device)\n",
    "\n",
    "n_steps, lr, weight_decay = 1000, 5e-2, 0.\n",
    "roller_outer.train()\n",
    "optimizer = torch.optim.Adam(roller_outer.parameters(), lr=lr, weight_decay=weight_decay)\n",
    "loss_vals = np.zeros(n_steps)\n",
    "for i in range(n_steps):\n",
    "        optimizer.zero_grad()\n",
    "        loss = ((roller_outer.forward(T=T) - target)**2).mean()\n",
    "        loss.backward()\n",
    "        optimizer.step()\n",
    "        loss_vals[i] = loss.detach().numpy()\n",
    "\n",
    "plt.figure(figsize=(8,2))\n",
    "plt.semilogy(loss_vals, label='initialization')\n",
    "plt.title('rollout final state loss across gradient descent steps')\n",
    "plt.ylabel('MSE)')\n",
    "plt.xlabel('gradient step')\n",
    "plt.show()\n",
    "\"\"\""
   ]
  },
  {
   "cell_type": "code",
   "execution_count": null,
   "metadata": {
    "scrolled": false
   },
   "outputs": [],
   "source": [
    "\n",
    "from L96_emulator.eval import Rollout\n",
    "\n",
    "T_start = np.array([5000, 10000, 150000])\n",
    "T, N = 100, len(T_start)\n",
    "\n",
    "roller_outer = Rollout(model_forward, prediction_task='state', K=K, J=J, N=N)\n",
    "x_init = roller_outer.X.detach().cpu().numpy().copy()\n",
    "\n",
    "target = torch.as_tensor(out[T_start+T], dtype=dtype, device=device)\n",
    "\n",
    "n_steps, lr, weight_decay = 100, 1e-2, 0.\n",
    "roller_outer.train()\n",
    "\n",
    "#optimizer = torch.optim.Adam(roller_outer.parameters(), lr=lr, weight_decay=weight_decay)\n",
    "optimizer = torch.optim.LBFGS(params=roller_outer.parameters(), \n",
    "                              lr=lr, \n",
    "                              max_iter=20, \n",
    "                              max_eval=None, \n",
    "                              tolerance_grad=1e-07, \n",
    "                              tolerance_change=1e-09, \n",
    "                              history_size=100, \n",
    "                              line_search_fn=None)\n",
    "\n",
    "loss_vals = np.zeros(n_steps)\n",
    "\n",
    "for i in range(n_steps):\n",
    "    def closure():\n",
    "        loss = ((roller_outer.forward(T=T) - target)**2).mean()\n",
    "        optimizer.zero_grad()\n",
    "        loss.backward()\n",
    "\n",
    "        return loss    \n",
    "    optimizer.step(closure)\n",
    "    loss = ((roller_outer.forward(T=T) - target)**2).mean()\n",
    "    loss_vals[i] = loss.detach().cpu().numpy()\n",
    "\n",
    "        \n",
    "plt.figure(figsize=(8,2))\n",
    "plt.semilogy(loss_vals, label='initialization')\n",
    "plt.title('rollout final state loss across gradient descent steps')\n",
    "plt.ylabel('MSE)')\n",
    "plt.xlabel('gradient step')\n",
    "plt.show()\n",
    "\n",
    "loss_vals"
   ]
  },
  {
   "cell_type": "code",
   "execution_count": null,
   "metadata": {},
   "outputs": [],
   "source": [
    "\"\"\"\n",
    "import torch \n",
    "import numpy as np\n",
    "from L96_emulator.eval import Rollout\n",
    "\n",
    "N, T_rollout = 100, 10 # number of rollout starting points, number of rollout steps\n",
    "exp_id = 'minimalnet_fullyconn_skipconn_J10' # trained network for which initstate_train.py was run\n",
    "lead_time = 1 # number of steps predicted\n",
    "\n",
    "save_dir = res_dir + 'models/' + exp_id + '/'\n",
    "model_fn = f'{exp_id}_dt{lead_time}.pt'\n",
    "results_fn = f'_rollout_outputs_K{K}_J{J}_T{T}_N{N}_TR{T_rollout}'\n",
    "output_fn = f'_rollout_training_outputs_K{K}_J{J}_T{T}_N{N}_TR{T_rollout}'\n",
    "\n",
    "training_outputs = np.load(save_dir + output_fn + '.npy', allow_pickle=True)[()]\n",
    "roller_outer = Rollout(model_forward, prediction_task='state', K=K, J=J, N=N)\n",
    "roller_outer.load_state_dict(torch.load(save_dir + results_fn, map_location=torch.device(device)))\n",
    "\n",
    "x_init, T_start = training_outputs['x_init'],  training_outputs['T_start']\n",
    "\n",
    "plt.figure(figsize=(16,4))\n",
    "plt.semilogy(training_outputs['training_loss'], label='initialization')\n",
    "plt.title('rollout final state loss across gradient descent steps')\n",
    "plt.ylabel('MSE)')\n",
    "plt.xlabel('gradient step')\n",
    "plt.show()\n",
    "\"\"\""
   ]
  },
  {
   "cell_type": "markdown",
   "metadata": {},
   "source": [
    "## plotting"
   ]
  },
  {
   "cell_type": "code",
   "execution_count": null,
   "metadata": {
    "scrolled": false
   },
   "outputs": [],
   "source": [
    "N_max = 3 # chose N_max << N if N is very large and you don't want hundreds of subplots\n",
    "\n",
    "plt.figure(figsize=(16,2*N_max))\n",
    "for n in range(N_max):\n",
    "    plt.subplot(np.ceil(N_max/2),2,n+1)\n",
    "    plt.plot(x_init[n], 'k', label='init', alpha=0.2)\n",
    "    plt.plot(roller_outer.X.detach().cpu().numpy()[n,:], color='orange', linewidth=1.5, label='target')\n",
    "    plt.plot(out[T_start[n]].T, 'b--', linewidth=0.5, label='est.')\n",
    "    plt.xlabel('state dimension')\n",
    "    plt.ylabel(f'iniital state at T = {T_start[n]}')\n",
    "    plt.legend()\n",
    "plt.suptitle('estimated initial state')\n",
    "plt.show()\n",
    "\n",
    "plt.figure(figsize=(16,2*N_max))\n",
    "for n in range(N_max):\n",
    "    plt.subplot(np.ceil(N_max/2),2,n+1)\n",
    "    plt.plot(out[T_start[n]].flatten() - roller_outer.X.detach().cpu().numpy()[n,:], 'orange', \n",
    "             label='est. - true initial state')\n",
    "    plt.plot(out[T_start[n]].flatten() - out[T_start[n]+T_rollout].flatten(), 'k', alpha=0.3, \n",
    "             label='future - initial state')\n",
    "    plt.legend()\n",
    "    plt.xlabel('state dimension')\n",
    "    plt.ylabel(f'initial state error at T = {T_start[n]}')\n",
    "plt.suptitle('error of estimated initial state')\n",
    "plt.show()\n",
    "\n",
    "plt.figure(figsize=(16,2*N_max))\n",
    "roller_outer2 = Rollout(model_forward, prediction_task='state', K=K, J=J, N=N, x_init=out[T_start])\n",
    "for n in range(N_max):\n",
    "    plt.subplot(np.ceil(N_max/2),2,n+1)\n",
    "    plt.plot(out[T_start[n]+T_rollout].flatten() - roller_outer.forward(T=T_rollout).detach().cpu().numpy()[n], \n",
    "             'orange', label='true final state - rollout from est. init. state')\n",
    "    plt.plot(out[T_start[n]+T_rollout].flatten() - roller_outer2.forward(T=T_rollout).detach().cpu().numpy()[n], \n",
    "             'k', alpha=0.3, label='true final state - rollout from true init. state')\n",
    "    plt.legend()\n",
    "    plt.xlabel('state dimension')\n",
    "    plt.ylabel(f'final state error at T = {T_start[n]}+{T_rollout}')\n",
    "plt.suptitle('error of estimated final state (under the learned model)')\n",
    "plt.show()"
   ]
  },
  {
   "cell_type": "code",
   "execution_count": null,
   "metadata": {
    "scrolled": false
   },
   "outputs": [],
   "source": []
  }
 ],
 "metadata": {
  "kernelspec": {
   "display_name": "Python 3",
   "language": "python",
   "name": "python3"
  },
  "language_info": {
   "codemirror_mode": {
    "name": "ipython",
    "version": 3
   },
   "file_extension": ".py",
   "mimetype": "text/x-python",
   "name": "python",
   "nbconvert_exporter": "python",
   "pygments_lexer": "ipython3",
   "version": "3.7.6"
  }
 },
 "nbformat": 4,
 "nbformat_minor": 2
}
