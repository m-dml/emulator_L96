{
 "cells": [
  {
   "cell_type": "markdown",
   "metadata": {},
   "source": [
    "# 1.3 Solve a fully-observed inverse problem\n",
    "\n",
    "Given $x_T$, estimate $x_0$ by matching $G^{(T)}(x_0)$ to $x_T$. Use autodiff on $G$ to calculate gradients of an error metric w.r.t. $x_0$. Compare the resulting rollout to the original `true' simulation.\n",
    "\n",
    "Compare three approaches:\n",
    "- $argmin_{x_0} || x_T - G^{(T)}(x_i) ||$, i.e. $T$ steps in one go\n",
    "- $argmin_{x_i} || x_{i+T_i} - G^{(T_i)}(x_i) ||$, i.e. $T_i$ steps at a time, with $\\sum_i T_i = T$. In the extreme case of $T_i=1$, this becomes very similar to implicit numerical methods. Can invertible neural networks help beyond providing better initializations for $x_i$ ? \n",
    "- solving backwards: more of the extreme case of $\\forall i: T_i=1$, however: Only for some forward numerical solvers can we just reverse time [1] and expect to return to initial conditions. Leap-frog works, but e.g. forward-Euler time-reversed is backward-Euler. \n",
    "\n",
    "Generally, how do these approaches differ around \\& beyond the horizon of predictability? Which solutions do they pick, and how easy is it to get uncertainties from them?\n",
    "\n",
    "[1] https://scicomp.stackexchange.com/questions/32736/forward-and-backward-integration-cause-of-errors?noredirect=1&lq=1"
   ]
  },
  {
   "cell_type": "code",
   "execution_count": null,
   "metadata": {
    "scrolled": true
   },
   "outputs": [],
   "source": [
    "%matplotlib inline\n",
    "import numpy as np\n",
    "import matplotlib.pyplot as plt\n",
    "import os\n",
    "import sys\n",
    "import L96sim\n",
    "\n",
    "from L96_emulator.util import dtype, dtype_np, device\n",
    "\n",
    "res_dir = '/gpfs/work/nonnenma/results/emulators/L96/'\n",
    "data_dir = '/gpfs/work/nonnenma/data/emulators/L96/'"
   ]
  },
  {
   "cell_type": "markdown",
   "metadata": {},
   "source": [
    "### load / simulate data"
   ]
  },
  {
   "cell_type": "code",
   "execution_count": null,
   "metadata": {
    "scrolled": false
   },
   "outputs": [],
   "source": [
    "from L96_emulator.util import predictor_corrector, rk4_default, get_data\n",
    "from L96_emulator.run import sel_dataset_class\n",
    "\n",
    "K, J, T, dt, N_trials = 36, 10, 605, 0.01, 1\n",
    "spin_up_time, train_frac = 5., 0.8\n",
    "normalize_data = False\n",
    "\n",
    "F, h, b, c = 10, 1, 10, 10\n",
    "\n",
    "out, datagen_dict = get_data(K=K, J=J, T=T, dt=dt, N_trials=N_trials, F=F, h=h, b=b, c=c, \n",
    "                             resimulate=True, solver=rk4_default,\n",
    "                             save_sim=False, data_dir=data_dir)\n",
    "\n",
    "plt.figure(figsize=(8,4))\n",
    "plt.imshow(out.T, aspect='auto')\n",
    "plt.xlabel('time')\n",
    "plt.ylabel('location')\n",
    "plt.show()\n",
    "\n",
    "prediction_task = 'state'\n",
    "lead_time = 1\n",
    "DatasetClass = sel_dataset_class(prediction_task=prediction_task,N_trials=1)\n",
    "dg_train = DatasetClass(data=out, J=J, offset=lead_time, normalize=normalize_data, \n",
    "                   start=int(spin_up_time/dt), \n",
    "                   end=int(np.floor(out.shape[0]*train_frac)))"
   ]
  },
  {
   "cell_type": "markdown",
   "metadata": {},
   "source": [
    "### pick a (trained) emulator"
   ]
  },
  {
   "cell_type": "code",
   "execution_count": null,
   "metadata": {},
   "outputs": [],
   "source": [
    "from L96_emulator.run import setup\n",
    "\n",
    "exp_id = 21\n",
    "\n",
    "exp_names = os.listdir('experiments/')   \n",
    "conf_exp = exp_names[np.where(np.array([name[:2] for name in exp_names])==str(exp_id))[0][0]][:-4]\n",
    "\n",
    "print('conf_exp', conf_exp)\n",
    "\n",
    "args = setup(conf_exp=f'experiments/{conf_exp}.yml')\n",
    "args.pop('conf_exp')"
   ]
  },
  {
   "cell_type": "markdown",
   "metadata": {},
   "source": [
    "### choose numerical solver scheme"
   ]
  },
  {
   "cell_type": "code",
   "execution_count": null,
   "metadata": {},
   "outputs": [],
   "source": [
    "args['model_forwarder'] = 'rk4_default'\n",
    "args['dt_net'] = dt "
   ]
  },
  {
   "cell_type": "markdown",
   "metadata": {},
   "source": [
    "### load & instantiate the emulator"
   ]
  },
  {
   "cell_type": "code",
   "execution_count": null,
   "metadata": {},
   "outputs": [],
   "source": [
    "import torch \n",
    "import numpy as np\n",
    "from L96_emulator.eval import load_model_from_exp_conf\n",
    "from L96sim.L96_base import f1, f2, pf2\n",
    "\n",
    "model, model_forwarder, training_outputs = load_model_from_exp_conf(res_dir, args)\n",
    "\n",
    "if not training_outputs is None:\n",
    "    training_loss, validation_loss = training_outputs['training_loss'], training_outputs['validation_loss']\n",
    "\n",
    "    fig = plt.figure(figsize=(8,8))\n",
    "    seq_length = args['seq_length']\n",
    "    plt.semilogy(validation_loss, label=conf_exp+ f' ({seq_length * (J+1)}-dim)')\n",
    "    plt.title('training')\n",
    "    plt.ylabel('validation error')\n",
    "    plt.legend()\n",
    "    fig.patch.set_facecolor('xkcd:white')\n",
    "    plt.show()\n",
    "\n",
    "from L96_emulator.eval import sortL96fromChannels, sortL96intoChannels\n",
    "\n",
    "if J > 0:\n",
    "    def fun(t, x):\n",
    "        return f2(x, F, h, b, c, dX_dt, K, J)\n",
    "else:\n",
    "    def fun(t, x):\n",
    "        return f1(x, F, dX_dt, K)\n",
    "dX_dt = np.empty(K*(J+1), dtype=dtype_np)\n",
    "n_starts = np.array([5000, 10000, 15000])\n",
    "i = 0\n",
    "for i in range(len(n_starts)):\n",
    "    inputs = out[n_starts[i]]\n",
    "    inputs_torch = torch.as_tensor(sortL96intoChannels(np.atleast_2d(out[n_starts[i]]),J=J),dtype=dtype,device=device)\n",
    "\n",
    "    MSE = ((fun(0., inputs) - sortL96fromChannels(model.forward(inputs_torch).detach().cpu().numpy()))**2).mean()\n",
    "    print(MSE)"
   ]
  },
  {
   "cell_type": "markdown",
   "metadata": {},
   "source": [
    "### simulate an example rollout from the emulator"
   ]
  },
  {
   "cell_type": "code",
   "execution_count": null,
   "metadata": {
    "scrolled": false
   },
   "outputs": [],
   "source": [
    "from L96_emulator.eval import get_rollout_fun, plot_rollout\n",
    "from L96_emulator.util import sortL96fromChannels, sortL96intoChannels\n",
    "\n",
    "model_simulate = get_rollout_fun(dg_train, model_forwarder, prediction_task)\n",
    "\n",
    "T_start, T_dur = 10*spin_up_time, 10\n",
    "n_start, n_dur = int(T_start/dt), int(T_dur/dt)\n",
    "\n",
    "out_model = model_simulate(y0=dg_train[n_start].copy(), \n",
    "                           dy0=dg_train[n_start]-dg_train[n_start-dg_train.offset],\n",
    "                           n_steps=n_dur)\n",
    "out_model = sortL96fromChannels(out_model * dg_train.std + dg_train.mean)\n",
    "\n",
    "solver_comparison = True \n",
    "if solver_comparison:\n",
    "    try: \n",
    "        print(F, h, b, c)\n",
    "    except: \n",
    "        F, h, b, c = 10, 1, 10, 10\n",
    "    1\n",
    "    times_ = np.linspace(0, T_dur, 2*n_dur+1) # + n_start\n",
    "    out2 = rk4_default(fun=fun, y0=out[n_start], times=times_)[::2]\n",
    "else:\n",
    "    out2 = None\n",
    "\n",
    "fig = plot_rollout(out, out_model, out_comparison=out2, n_start=n_start, n_steps=n_dur, K=K)\n"
   ]
  },
  {
   "cell_type": "markdown",
   "metadata": {},
   "source": [
    "# Solving a fully-observed inverse problem"
   ]
  },
  {
   "cell_type": "code",
   "execution_count": null,
   "metadata": {},
   "outputs": [],
   "source": [
    "n_starts = np.arange(int(spin_up_time/dt), int(train_frac*out.shape[0]), 2* int(spin_up_time/dt))\n",
    "T_rollout, N = 40, len(n_starts)\n",
    "n_chunks = 10"
   ]
  },
  {
   "cell_type": "code",
   "execution_count": null,
   "metadata": {},
   "outputs": [],
   "source": [
    "\"\"\"\n",
    "import time\n",
    "from L96_emulator.eval import Rollout\n",
    "\n",
    "if J > 0:\n",
    "    def negfun(t, x):\n",
    "        return - f2(x, F, h, b, c, dX_dt, K, J)\n",
    "else:\n",
    "    def negfun(t, x):\n",
    "        return - f1(x, F, dX_dt, K)\n",
    "\n",
    "n_steps, lr, weight_decay = 200, 1.0, 0.0\n",
    "\n",
    "loss_vals_backsolve = np.zeros(n_steps)\n",
    "time_vals_backsolve = time.time() * np.ones(n_steps)\n",
    "\n",
    "target = out[n_starts+T_rollout]\n",
    "state_mses_backsolve = np.zeros(n_chunks)\n",
    "\n",
    "x_init = np.zeros((len(n_starts), K*(J+1)))\n",
    "\n",
    "i_ = 0\n",
    "\n",
    "plt.figure(figsize=(12, 4))\n",
    "for c_, dt_fac in enumerate([1, 10, 100, 1000]):\n",
    "    plt.subplot(1,4,c_+1)\n",
    "    for j in range(n_chunks):\n",
    "\n",
    "        T_i = (j+1)*T_rollout//n_chunks\n",
    "        times = np.linspace(0, dt*T_i, dt_fac*T_i+1)\n",
    "        print('backward solving')\n",
    "        for i__ in range(len(n_starts)):\n",
    "            out2 = rk4_default(fun=negfun, y0=out[n_starts[i__]+T_rollout].copy(), times=times)\n",
    "            x_init[i__] = out2[-1].copy()\n",
    "        state_mses_backsolve[j] = ((x_init - target)**2).mean()\n",
    "    plt.plot(T_rollout//n_chunks*np.arange(1,n_chunks+1), state_mses_backsolve)\n",
    "    plt.xlabel('T_rollout')\n",
    "    plt.ylabel('MSE of iniitial state estimate')\n",
    "    plt.title(f'dt={dt/dt_fac}')\n",
    "plt.show()\n",
    "\"\"\""
   ]
  },
  {
   "cell_type": "markdown",
   "metadata": {},
   "source": [
    "## plot and compare results"
   ]
  },
  {
   "cell_type": "code",
   "execution_count": null,
   "metadata": {},
   "outputs": [],
   "source": [
    "\"\"\"\n",
    "np.save(res_dir + 'results/data_assimilation/fullyobs_initstate_tests',\n",
    "        arr={\n",
    "            'loss_vals_LBFGS_full_backsolve' : loss_vals_LBFGS_full_backsolve, \n",
    "            'loss_vals_LBFGS_full_persistence' : loss_vals_LBFGS_full_persistence,\n",
    "            'loss_vals_LBFGS_full_chunks' : loss_vals_LBFGS_full_chunks,\n",
    "            'loss_vals_LBFGS_chunks' : loss_vals_LBFGS_chunks,\n",
    "            'loss_vals_LBFGS_chunks_rollout' : loss_vals_LBFGS_chunks_rollout,\n",
    "\n",
    "            'time_vals_LBFGS_full_backsolve' : time_vals_LBFGS_full_backsolve,\n",
    "            'time_vals_LBFGS_full_persistence' : time_vals_LBFGS_full_persistence,\n",
    "            'time_vals_LBFGS_full_chunks' : time_vals_LBFGS_full_chunks,\n",
    "            'time_vals_LBFGS_chunks' : time_vals_LBFGS_chunks,\n",
    "            'time_vals_backsolve' : time_vals_backsolve,\n",
    "\n",
    "            'state_mses_LBFGS_full_backsolve' : state_mse_full_backsolve,\n",
    "            'state_mses_LBFGS_full_persistence' : state_mses_LBFGS_full_persistence,\n",
    "            'state_mses_LBFGS_full_chunks' : state_mses_LBFGS_full_chunks,\n",
    "            'state_mses_LBFGS_chunks' : state_mses_LBFGS_chunks,\n",
    "            'state_mses_backsolve' : state_mse_backsolve,\n",
    "            })\n",
    "\"\"\"\n",
    "res = np.load(res_dir + 'results/data_assimilation/fullyobs_initstate_tests.npy', allow_pickle=True)[()]\n",
    "\n",
    "loss_vals_LBFGS_full_backsolve=res['loss_vals_LBFGS_full_backsolve']\n",
    "loss_vals_LBFGS_full_persistence=res['loss_vals_LBFGS_full_persistence']\n",
    "loss_vals_LBFGS_full_chunks=res['loss_vals_LBFGS_full_chunks']\n",
    "loss_vals_LBFGS_chunks=res['loss_vals_LBFGS_chunks']\n",
    "loss_vals_LBFGS_chunks_rollout=res['loss_vals_LBFGS_chunks_rollout']\n",
    "\n",
    "time_vals_LBFGS_full_backsolve=res['time_vals_LBFGS_full_backsolve']\n",
    "time_vals_LBFGS_full_persistence=res['time_vals_LBFGS_full_persistence']\n",
    "time_vals_LBFGS_full_chunks=res['time_vals_LBFGS_full_chunks']\n",
    "time_vals_LBFGS_chunks=res['time_vals_LBFGS_chunks']\n",
    "time_vals_backsolve=res['time_vals_backsolve']\n",
    "\n",
    "\n",
    "state_mses_LBFGS_full_backsolve=res['state_mses_LBFGS_full_backsolve']\n",
    "state_mses_LBFGS_full_persistence=res['state_mses_LBFGS_full_persistence']\n",
    "state_mses_LBFGS_full_chunks=res['state_mses_LBFGS_full_chunks']\n",
    "state_mses_LBFGS_chunks=res['state_mses_LBFGS_chunks']\n",
    "state_mses_backsolve=res['state_mses_backsolve']\n",
    "            \n",
    "x_sols_LBFGS_full_backsolve=res['x_sols_LBFGS_full_backsolve'] \n",
    "x_sols_LBFGS_full_persistence=res['x_sols_LBFGS_full_persistence']\n",
    "x_sols_LBFGS_full_chunks=res['x_sols_LBFGS_full_chunks']\n",
    "x_sols_LBFGS_chunks=res['x_sols_LBFGS_chunks']\n",
    "x_sols_backsolve=res['x_sols_backsolve']\n"
   ]
  },
  {
   "cell_type": "code",
   "execution_count": null,
   "metadata": {},
   "outputs": [],
   "source": [
    "n_steps = 100\n",
    "appr_names = [#'full optim, init from backsolve', \n",
    "              'full optim, init from chunks',\n",
    "              'full optim, init from persistence',\n",
    "              'optim over single chunk (full rollout error)']\n",
    "all_losses = [#loss_vals_LBFGS_full_backsolve, \n",
    "              loss_vals_LBFGS_full_chunks, \n",
    "              loss_vals_LBFGS_full_persistence, \n",
    "              loss_vals_LBFGS_chunks_rollout]\n",
    "\n",
    "plt.figure(figsize=(16,8))\n",
    "for i,loss in enumerate(all_losses):\n",
    "    xx = np.arange(len(loss))+1 if len(loss) == 1000 else np.arange(0, 10*len(loss), 10)+1\n",
    "    plt.semilogy(xx, loss, label=appr_names[i])        \n",
    "\n",
    "try:\n",
    "    loss = loss_vals_LBFGS_chunks\n",
    "    xx = np.arange(len(loss))+1 if len(loss) == 1000 else np.arange(0, 10*len(loss), 10)+1\n",
    "    plt.semilogy(xx, loss, 'k--', alpha=0.3, label='optim over single chunk (current chunk error)')        \n",
    "except:\n",
    "    pass\n",
    "\n",
    "for i in range(n_chunks):\n",
    "    plt.semilogy(n_steps*i + n_steps*np.array([0.05, 0.95]), 1e-10*np.ones(2), 'k')\n",
    "    plt.text(i*(n_steps), 5e-11, f'T_rollout={(i+1)*T_rollout//n_chunks}')\n",
    "\n",
    "plt.legend()\n",
    "plt.xlabel('# gradient step')\n",
    "plt.ylabel('rollout MSE')\n",
    "plt.suptitle('optimization error for different initialization methods')\n",
    "plt.show()"
   ]
  },
  {
   "cell_type": "code",
   "execution_count": null,
   "metadata": {},
   "outputs": [],
   "source": [
    "n_steps = 100\n",
    "appr_names = [#'full optim, init from backsolve', \n",
    "              'full optim, init from chunks',\n",
    "              'full optim, init from persistence',\n",
    "              'optim over sequence of chunks',\n",
    "              f'direct_backsolve (dt = {dt/100})']\n",
    "all_mses = [#state_mses_LBFGS_full_backsolve, \n",
    "            state_mses_LBFGS_full_chunks,\n",
    "            state_mses_LBFGS_full_persistence, \n",
    "            state_mses_LBFGS_chunks]\n",
    "\n",
    "plt.figure(figsize=(16,8))\n",
    "for i,mse in enumerate(all_mses):\n",
    "    xx = (np.arange(10) + 1) * T_rollout//n_chunks\n",
    "    plt.semilogy(xx, mse, label=appr_names[i])        \n",
    "\n",
    "xx = (np.arange(10) + 1) * T_rollout//n_chunks\n",
    "plt.semilogy(xx, state_mses_backsolve, '--', label=appr_names[-1])        \n",
    "\n",
    "plt.legend()\n",
    "plt.xlabel('rollout steps')\n",
    "plt.ylabel('initial state MSE')\n",
    "plt.suptitle('initial state error for different initialization methods')\n",
    "plt.show()"
   ]
  },
  {
   "cell_type": "code",
   "execution_count": null,
   "metadata": {},
   "outputs": [],
   "source": [
    "n_steps = 100\n",
    "all_times =  [#time_vals_LBFGS_full_backsolve, \n",
    "              time_vals_LBFGS_full_chunks, \n",
    "              time_vals_LBFGS_full_persistence, \n",
    "              time_vals_LBFGS_chunks]\n",
    "\n",
    "appr_names = [#'full optim, init from backsolve', \n",
    "              'full optim, init from chunks (on top of optim over seq of chunks)',\n",
    "              'full optim, init from persistence',\n",
    "              'optim over sequence of chunks',\n",
    "              f'direct_backsolve (dt = {dt/100})']\n",
    "\n",
    "plt.figure(figsize=(16,8))\n",
    "for i, tms in enumerate(all_times):\n",
    "    xx = (np.arange(10) + 1) * T_rollout//n_chunks\n",
    "    plt.plot(xx, tms[::n_steps], label=appr_names[i])        \n",
    "\n",
    "plt.plot(xx, time_vals_backsolve[:10], '--', label=appr_names[-1])        \n",
    "\n",
    "plt.legend()\n",
    "plt.xlabel('rollout steps')\n",
    "plt.ylabel('computation time [s]')\n",
    "plt.suptitle('full computation time for different initialization methods')\n",
    "plt.show()"
   ]
  },
  {
   "cell_type": "markdown",
   "metadata": {},
   "source": [
    "### compare with plain gradient descent (SGD with single data point)"
   ]
  },
  {
   "cell_type": "code",
   "execution_count": null,
   "metadata": {},
   "outputs": [],
   "source": [
    "\"\"\"\n",
    "\n",
    "import time\n",
    "from L96_emulator.eval import Rollout\n",
    "\n",
    "\n",
    "n_starts = np.array([5000, 10000, 15000])\n",
    "T_rollout, N = 100, len(n_starts)\n",
    "n_chunks = 20\n",
    "\n",
    "target = torch.as_tensor(out[n_starts+T_rollout], dtype=dtype, device=device)\n",
    "\n",
    "x_init = out[n_starts+T_rollout].copy()\n",
    "roller_outer_SGD = Rollout(model_forward, prediction_task='state', K=K, J=J, N=N, x_init=x_init)\n",
    "x_init = roller_outer_SGD.X.detach().cpu().numpy().copy()\n",
    "\n",
    "n_steps, lr, weight_decay = 500, 0.01, 0.0\n",
    "roller_outer_SGD.train()\n",
    "\n",
    "optimizer = torch.optim.Adam(roller_outer_SGD.parameters(), lr=lr, weight_decay=weight_decay)\n",
    "\n",
    "#optimizer = torch.optim.LBFGS(params=roller_outer.parameters(), \n",
    "#                              lr=lr, \n",
    "#                              max_iter=20, \n",
    "#                              max_eval=None, \n",
    "#                              tolerance_grad=1e-07, \n",
    "#                              tolerance_change=1e-09, \n",
    "#                              history_size=100, \n",
    "#                              line_search_fn=None)\n",
    "loss_vals_SGD = np.zeros(n_steps)\n",
    "time_vals_SGD = time.time() * np.ones(n_steps)\n",
    "for i in range(n_steps):\n",
    "        optimizer.zero_grad()\n",
    "        loss = ((roller_outer_SGD.forward(T=T_rollout) - target)**2).mean()\n",
    "        loss.backward()\n",
    "        optimizer.step()\n",
    "        loss_vals_SGD[i] = loss.detach().cpu().numpy()\n",
    "        time_vals_SGD[i] = time.time() - time_vals_SGD[i]\n",
    "        print((time_vals_SGD[i], loss_vals_SGD[i]))\n",
    "        \n",
    "plt.figure(figsize=(8,2))\n",
    "plt.semilogy(loss_vals_SGD, label='initialization')\n",
    "plt.title('rollout final state loss across gradient descent steps')\n",
    "plt.ylabel('MSE)')\n",
    "plt.xlabel('gradient step')\n",
    "plt.show()\n",
    "\n",
    "\"\"\""
   ]
  },
  {
   "cell_type": "code",
   "execution_count": null,
   "metadata": {},
   "outputs": [],
   "source": []
  },
  {
   "cell_type": "markdown",
   "metadata": {},
   "source": [
    "# share notebook results via html file"
   ]
  },
  {
   "cell_type": "code",
   "execution_count": null,
   "metadata": {},
   "outputs": [],
   "source": [
    "!jupyter nbconvert --output-dir='/gpfs/home/nonnenma/projects/lab_coord/mdml_wiki/marcel/emulators' --to html data_assimilation.ipynb"
   ]
  },
  {
   "cell_type": "code",
   "execution_count": null,
   "metadata": {
    "scrolled": false
   },
   "outputs": [],
   "source": []
  }
 ],
 "metadata": {
  "kernelspec": {
   "display_name": "Python 3",
   "language": "python",
   "name": "python3"
  },
  "language_info": {
   "codemirror_mode": {
    "name": "ipython",
    "version": 3
   },
   "file_extension": ".py",
   "mimetype": "text/x-python",
   "name": "python",
   "nbconvert_exporter": "python",
   "pygments_lexer": "ipython3",
   "version": "3.7.4"
  }
 },
 "nbformat": 4,
 "nbformat_minor": 2
}
