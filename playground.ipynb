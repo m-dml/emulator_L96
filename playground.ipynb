{
 "cells": [
  {
   "cell_type": "markdown",
   "metadata": {},
   "source": [
    "# Simulate data"
   ]
  },
  {
   "cell_type": "code",
   "execution_count": null,
   "metadata": {
    "scrolled": true
   },
   "outputs": [],
   "source": [
    "%matplotlib inline\n",
    "import numpy as np\n",
    "import matplotlib.pyplot as plt\n",
    "import os\n",
    "import sys\n",
    "module_path = os.path.abspath(os.path.join('/gpfs/home/nonnenma/projects/emulators/simulators/L96'))\n",
    "if module_path not in sys.path:\n",
    "    sys.path.append(module_path)\n",
    "\n",
    "res_dir = '/gpfs/work/nonnenma/results/emulators/L96/'\n",
    "\n",
    "dtype = np.float32"
   ]
  },
  {
   "cell_type": "code",
   "execution_count": null,
   "metadata": {
    "scrolled": true
   },
   "outputs": [],
   "source": [
    "from L96_base import f1, f2, J1, J1_init, f1_juliadef, f2_juliadef\n",
    "from L96_emulator.util import predictor_corrector\n",
    "\n",
    "F, h, b, c = 10, 1, 10, 10\n",
    "K,J = 36, 10\n",
    "T, dt = 605, 0.001\n",
    "\n",
    "X_init = F * (0.5 + np.random.randn(K*(J+1)) * 1.0) / np.maximum(J,1)\n",
    "dX_dt = np.empty(X_init.size, dtype=X_init.dtype)\n",
    "times = np.linspace(0, T, np.floor(T/dt)+1)\n",
    "\n",
    "if J > 0:\n",
    "    def fun(t, x):\n",
    "        return f2(x, F, h, b, c, dX_dt, K, J)\n",
    "else:\n",
    "    def fun(t, x):\n",
    "        return f1(x, F, dX_dt, K)\n",
    "\n",
    "out = predictor_corrector(fun=fun, y0=X_init.copy(), times=times, alpha=0.5)\n",
    "\n",
    "# filename for data storage\n",
    "fn_data = f'out_K{K}_J{J}_T{T}'\n",
    "np.save(res_dir + 'data/' + fn_data, out.astype(dtype=dtype))\n",
    "\n",
    "plt.figure(figsize=(8,4))\n",
    "plt.imshow(out.T, aspect='auto')\n",
    "plt.xlabel('time')\n",
    "plt.ylabel('location')\n",
    "plt.show()"
   ]
  },
  {
   "cell_type": "code",
   "execution_count": null,
   "metadata": {
    "scrolled": true
   },
   "outputs": [],
   "source": [
    "from L96_base import f1, f2, J1, J1_init, f1_juliadef, f2_juliadef\n",
    "from L96_emulator.util import predictor_corrector\n",
    "\n",
    "try: \n",
    "    print(F, h, b, c, K, J, T, dt)\n",
    "except: \n",
    "    F, h, b, c = 10, 1, 10, 10\n",
    "    K,J = 36, 10\n",
    "    T, dt = 605, 0.001\n",
    "\n",
    "T_ = 5000\n",
    "T_burnin = int(5./dt) # rough time [s] for model state to have 'forgotten' its initial state\n",
    "\n",
    "dX_dt = np.empty(K*(J+1), dtype=np.float32)\n",
    "times = np.arange(0, (T_+1)*dt, 0.5*dt)\n",
    "\n",
    "if J > 0:\n",
    "    def fun(t, x):\n",
    "        return f2(x, F, h, b, c, dX_dt, K, J)\n",
    "else:\n",
    "    def fun(t, x):\n",
    "        return f1(x, F, dX_dt, K)\n",
    "\n",
    "out2 = predictor_corrector(fun=fun, y0=out[T_burnin], times=times, alpha=0.5)[::2,:]\n",
    "#out2 = (out2.reshape(-1,J+1,K) - dg_train.mean) / dg_train.std\n",
    "out2 = out2.reshape(-1,(J+1)*K)"
   ]
  },
  {
   "cell_type": "code",
   "execution_count": null,
   "metadata": {
    "scrolled": true
   },
   "outputs": [],
   "source": [
    "from L96_emulator.dataset import Dataset\n",
    "\n",
    "temporal_offset = 1\n",
    "dg_train = Dataset(data=out, J=J, offset=temporal_offset, normalize=True, \n",
    "                   start=T_burnin, \n",
    "                   end=int(np.floor(out.shape[0]*0.8)))"
   ]
  },
  {
   "cell_type": "code",
   "execution_count": null,
   "metadata": {
    "scrolled": true
   },
   "outputs": [],
   "source": [
    "out2 = (out2.reshape(-1,J+1,K) - dg_train.mean) / dg_train.std\n",
    "out2 = out2.reshape(-1,(J+1)*K)"
   ]
  },
  {
   "cell_type": "code",
   "execution_count": null,
   "metadata": {
    "scrolled": true
   },
   "outputs": [],
   "source": [
    "plt.plot(np.sqrt(np.mean( (out2 - dg_train[np.arange(T_+1)+ T_burnin].reshape(-1,(J+1)*K))**2, axis=1 )), 'k--',\n",
    "        label='solver 2x temp. resol. vs sim')\n",
    "plt.axis([0, 2000, 0, 1.6])\n",
    "plt.title('missmatch over time')\n",
    "plt.xlabel('time')\n",
    "plt.ylabel('RMSE (on z-scored data)')\n",
    "plt.legend()\n",
    "plt.show()"
   ]
  },
  {
   "cell_type": "markdown",
   "metadata": {},
   "source": [
    "# Learn local emulator"
   ]
  },
  {
   "cell_type": "code",
   "execution_count": null,
   "metadata": {
    "scrolled": true
   },
   "outputs": [],
   "source": [
    "#%run -i 'main_train.py'"
   ]
  },
  {
   "cell_type": "markdown",
   "metadata": {},
   "source": [
    "# Evaluate model fit"
   ]
  },
  {
   "cell_type": "code",
   "execution_count": null,
   "metadata": {
    "scrolled": true
   },
   "outputs": [],
   "source": [
    "import torch \n",
    "import numpy as np\n",
    "from L96_emulator.networks import TinyNetwork, TinyResNet\n",
    "\n",
    "import os\n",
    "import sys\n",
    "module_path = os.path.abspath(os.path.join('/gpfs/home/nonnenma/projects/seasonal_forecasting/code/weatherbench'))\n",
    "if module_path not in sys.path:\n",
    "    sys.path.append(module_path)\n",
    "from src.pytorch.util import init_torch_device\n",
    "\n",
    "dtype = torch.float32\n",
    "\n",
    "device = init_torch_device()\n",
    "\n",
    "K,J = 36, 10\n",
    "T, dt = 605, 0.001\n",
    "fn_data = f'out_K{K}_J{J}_T{T}'\n",
    "\n",
    "T_burnin = int(5./dt) # rough time [s] for model state to have 'forgotten' its initial state\n",
    "\n",
    "\n",
    "model = TinyResNet(n_filters_ks3 = [128, 128, 128, 128], \n",
    "                    #n_filters_ks1=[[128, 128], [128, 128], [128, 128], [128, 128], [128, 128]],\n",
    "                    n_channels_in = 2*(J+1),\n",
    "                    n_channels_out = J+1,\n",
    "                    padding_mode='circular')\n",
    "test_input = np.random.normal(size=(10, 2*(J+1), 36))\n",
    "print(f'model output shape to test input of shape {test_input.shape}', \n",
    "      model.forward(torch.as_tensor(test_input, device=device, dtype=dtype)).shape)\n",
    "\n",
    "print('total #parameters: ', np.sum([np.prod(item.shape) for item in model.state_dict().values()]))\n",
    "model.layers_ks1, model.layers3x3"
   ]
  },
  {
   "cell_type": "code",
   "execution_count": null,
   "metadata": {
    "scrolled": true
   },
   "outputs": [],
   "source": [
    "from L96_emulator.dataset import DatasetRelPred, Dataset\n",
    "import numpy as np\n",
    "\n",
    "exp_id = 'V9'\n",
    "save_dir = res_dir + 'models/' + exp_id + '/'\n",
    "temporal_offset = 1\n",
    "fn_model = f'{exp_id}_FOV5_dt{temporal_offset}.pt'\n",
    "\n",
    "out = np.load(res_dir + 'data/' + fn_data + '.npy')\n",
    "model.load_state_dict(torch.load(save_dir + fn_model, map_location=torch.device(device)))\n",
    "\n",
    "dg_train = DatasetRelPred(data=out, J=J, offset=temporal_offset, normalize=True, \n",
    "                   start=T_burnin, \n",
    "                   end=int(np.floor(out.shape[0]*0.8)))\n",
    "dg_val   = DatasetRelPred(data=out, J=J, offset=temporal_offset, normalize=True, \n",
    "                   start=int(np.ceil(out.shape[0]*0.8)), \n",
    "                   end=int(np.floor(out.shape[0]*0.9)))"
   ]
  },
  {
   "cell_type": "code",
   "execution_count": null,
   "metadata": {
    "scrolled": false
   },
   "outputs": [],
   "source": [
    "if isinstance(dg_train, DatasetRelPred):\n",
    "\n",
    "    std_out = torch.as_tensor(dg_train.std_out, device='cpu', dtype=dtype)\n",
    "    mean_out = torch.as_tensor(dg_train.mean_out, device='cpu', dtype=dtype)\n",
    "\n",
    "    def model_simulate(y0, dy0, T):\n",
    "        x = np.empty((T+1, *y0.shape[1:]))\n",
    "        x[0] = y0.copy()\n",
    "        xx = torch.as_tensor(x[0], device='cpu', dtype=dtype)\n",
    "        dx = torch.as_tensor(dy0.copy(), device='cpu', dtype=dtype)\n",
    "        for i in range(1,T+1):\n",
    "            xxo = xx * 1.\n",
    "            #print(xx.shape, dx.shape)\n",
    "            xx = std_out * model.forward(torch.cat((xx.reshape(1,J+1,K), dx), axis=1)) + mean_out + xx.reshape(1,J+1,-1)\n",
    "            dx = xx - xxo\n",
    "            x[i] = xx.detach().numpy().copy()\n",
    "        return x\n",
    "    \n",
    "elif isinstance(dg_train, Dataset): \n",
    "\n",
    "    def model_simulate(y0, T):\n",
    "        x = np.empty((T+1, *y0.shape[1:]))\n",
    "        x[0] = y0.copy()\n",
    "        xx = torch.as_tensor(x[0], device='cpu', dtype=dtype).reshape(1,1,-1)\n",
    "        for i in range(1,T+1):\n",
    "            xx = model.forward(xx.reshape(1,J+1,-1))\n",
    "            x[i] = xx.detach().numpy().copy()\n",
    "        return x\n",
    "    \n",
    "    \n",
    "T_burnin = int(5./dt)\n",
    "T_ = 500 #(out.shape[0]-1)//10000\n",
    "\n",
    "out_model = model_simulate(y0=dg_train[T_burnin].copy(), \n",
    "                           dy0=dg_train[T_burnin]-dg_train[T_burnin-dg_train.offset],\n",
    "                           T=T_)#.reshape(-1, K*(J+1))\n",
    "\n",
    "vmax = np.maximum(np.nanmax(dg_train[np.arange(T_burnin,T_burnin+T_)]),\n",
    "                  np.nanmax(out_model))\n",
    "vmin = np.minimum(np.nanmin(dg_train[np.arange(T_burnin,T_burnin+T_)]),\n",
    "                  np.nanmin(out_model.T))\n",
    "\n",
    "vmax, vmin = 5, -5\n",
    "\n",
    "plt.figure(figsize=(16,9))\n",
    "plt.subplot(2,2,1)\n",
    "plt.imshow(dg_train[np.arange(T_+1)+ T_burnin].reshape(-1,(J+1)*K).T, aspect='auto', vmin=vmin, vmax=vmax)\n",
    "plt.xlabel('time')\n",
    "plt.ylabel('location')\n",
    "plt.title('numerical simulation')\n",
    "plt.colorbar()\n",
    "plt.subplot(2,2,3)\n",
    "plt.imshow(out_model.reshape(-1,(J+1)*K).T, aspect='auto', vmin=vmin, vmax=vmax)\n",
    "plt.xlabel('time')\n",
    "plt.ylabel('location')\n",
    "plt.title('model-reconstructed simulation')\n",
    "plt.colorbar()\n",
    "plt.subplot(1,2,2)\n",
    "plt.plot(np.sqrt(np.mean( (out_model - dg_train[np.arange(T_+1)+ T_burnin])**2, axis=(1,2) )), \n",
    "         label='model-reconstruction vs sim')\n",
    "\n",
    "try:\n",
    "    plt.plot(np.sqrt(np.mean( (out2[:T_+1] - dg_train[np.arange(T_+1)+ T_burnin].reshape(-1,(J+1)*K))**2, axis=1 )), 'k--',\n",
    "            label='solver 2x temp. resol. vs sim')\n",
    "except:\n",
    "    pass\n",
    "#plt.axis([0, np.minimum(500, T_), 0, 1.6])\n",
    "plt.title('missmatch over time')\n",
    "plt.xlabel('time')\n",
    "plt.ylabel('RMSE (on z-scored data)')\n",
    "plt.legend()\n",
    "plt.show()"
   ]
  },
  {
   "cell_type": "markdown",
   "metadata": {},
   "source": [
    "## debug corner"
   ]
  },
  {
   "cell_type": "code",
   "execution_count": null,
   "metadata": {
    "scrolled": true
   },
   "outputs": [],
   "source": [
    "T_burnin = 10000\n",
    "out_model = model_simulate(y0=dg_train[T_burnin].copy(), T=T_)#.reshape(-1, K*(J+1))\n",
    "\n",
    "\n",
    "plt.figure(figsize=(12,4))\n",
    "plt.subplot(1,2,1)\n",
    "for i in range(J+1):\n",
    "    plt.semilogy(np.arange(1, T_+1), (np.mean( (out_model[1:] - dg_train[np.arange(1,T_+1)+ T_burnin])**2, axis=(2,) ))[:,i], \n",
    "             'b--')\n",
    "plt.semilogy(np.arange(1, T_+1), (np.mean( (out_model[1:] - dg_train[np.arange(1,T_+1)+ T_burnin])**2, axis=(2,) ))[:,0], 'k', linewidth=2,\n",
    "         label='slow variables')\n",
    "plt.semilogy(-1, 1, 'b--', label=f'fast variables (J={str(J)})')\n",
    "plt.axis([0,20,0.0000001, 0.5])\n",
    "plt.legend()\n",
    "plt.xlabel('iterations')\n",
    "plt.ylabel('MSE')\n",
    "plt.title('error over iterations, per variable type')\n",
    "\n",
    "plt.subplot(1,2,2)\n",
    "for i in range(J+1):\n",
    "    plt.semilogy(np.arange(1, T_+1), (np.mean( (out_model[1:] - dg_train[np.arange(1,T_+1)+ T_burnin])**2, axis=(2,) ))[:,i], \n",
    "             'b--')\n",
    "plt.semilogy(np.arange(1, T_+1), (np.mean( (out_model[1:] - dg_train[np.arange(1,T_+1)+ T_burnin])**2, axis=(2,) ))[:,0], 'k', linewidth=2,\n",
    "         label='slow variables')\n",
    "plt.semilogy(-1, 1, 'b--', label=f'fast variables (J={str(J)})')\n",
    "plt.axis([0,1300,0.0000001, 1000])\n",
    "plt.legend()\n",
    "plt.xlabel('iterations')\n",
    "plt.ylabel('MSE')\n",
    "plt.title('error over iterations, per variable type')\n",
    "\n",
    "plt.show()"
   ]
  },
  {
   "cell_type": "code",
   "execution_count": null,
   "metadata": {},
   "outputs": [],
   "source": [
    "T_burnin = 10000\n",
    "out_model = model_simulate(y0=dg_train[T_burnin].copy(), T=T_)#.reshape(-1, K*(J+1))\n",
    "\n",
    "\n",
    "plt.figure(figsize=(12,4))\n",
    "plt.subplot(1,2,1)\n",
    "for i in range(K):\n",
    "    plt.semilogy(np.arange(1, T_+1), (np.mean( (out_model[1:] - dg_train[np.arange(1,T_+1)+ T_burnin])**2, axis=(1,) ))[:,i], \n",
    "             'b--')\n",
    "plt.semilogy(np.arange(1, T_+1), (np.mean( (out_model[1:] - dg_train[np.arange(1,T_+1)+ T_burnin])**2, axis=(1,) ))[:,0], 'k', linewidth=2,\n",
    "         label='slow variables')\n",
    "plt.semilogy(-1, 1, 'b--', label=f'fast variables (J={str(J)})')\n",
    "plt.axis([0,20,0.0000001, 0.5])\n",
    "plt.legend()\n",
    "plt.xlabel('iterations')\n",
    "plt.ylabel('MSE')\n",
    "plt.title('error over iterations, per variable type')\n",
    "\n",
    "plt.subplot(1,2,2)\n",
    "for i in range(K):\n",
    "    plt.semilogy(np.arange(1, T_+1), (np.mean( (out_model[1:] - dg_train[np.arange(1,T_+1)+ T_burnin])**2, axis=(1,) ))[:,i], \n",
    "             'b--')\n",
    "plt.semilogy(np.arange(1, T_+1), (np.mean( (out_model[1:] - dg_train[np.arange(1,T_+1)+ T_burnin])**2, axis=(1,) ))[:,0], 'k', linewidth=2,\n",
    "         label='slow variables')\n",
    "plt.semilogy(-1, 1, 'b--', label=f'fast variables (J={str(J)})')\n",
    "plt.axis([0,1300,0.0000001, 1000])\n",
    "plt.legend()\n",
    "plt.xlabel('iterations')\n",
    "plt.ylabel('MSE')\n",
    "plt.title('error over iterations, per variable type')\n",
    "\n",
    "plt.show()"
   ]
  },
  {
   "cell_type": "code",
   "execution_count": null,
   "metadata": {},
   "outputs": [],
   "source": [
    "t = 10000\n",
    "plt.plot((dg_train.mean_in + dg_train.std_in * dg_train[t][0,:,:]).reshape(K*(J+1)) - out[t])\n"
   ]
  },
  {
   "cell_type": "code",
   "execution_count": null,
   "metadata": {},
   "outputs": [],
   "source": [
    "t = 5000\n",
    "plt.figure(figsize=(12,8))\n",
    "plt.plot(dg_train[t+0].flatten(), label='t=0')\n",
    "plt.plot(dg_train[t+1].flatten(), label='t=1')\n",
    "plt.plot(model_simulate(y0=dg_train[t+0].copy(), T=1)[-1,:,:].flatten(), 'k--')\n",
    "plt.show()"
   ]
  },
  {
   "cell_type": "code",
   "execution_count": null,
   "metadata": {},
   "outputs": [],
   "source": [
    "t = 10000\n",
    "plt.figure(figsize=(12,8))\n",
    "plt.plot(dg_train[t+1].flatten() - dg_train[t+0].flatten(), label='sim')\n",
    "plt.plot(model_simulate(y0=dg_train[t+0].copy(), T=1)[-1,:,:].flatten()  - dg_train[t+0].flatten(), label='model')\n",
    "plt.show()"
   ]
  },
  {
   "cell_type": "code",
   "execution_count": null,
   "metadata": {},
   "outputs": [],
   "source": [
    "for t in [0, 100, 1000, 10000]:\n",
    "    plt.plot(model_simulate(y0=dg_train[t+0].copy(), T=1)[-1,:,:].flatten()  - dg_train[t+1].flatten(), label='model')\n",
    "    plt.show()\n"
   ]
  },
  {
   "cell_type": "code",
   "execution_count": null,
   "metadata": {
    "scrolled": true
   },
   "outputs": [],
   "source": [
    "\n",
    "plt.semilogy(np.std(np.diff(dg_train[np.arange(T_+1)+ T_burnin].reshape(-1,(J+1)*K), axis=0), axis=0))\n",
    "plt.xlabel('variable ID (slow: first K=36)')\n",
    "plt.ylabel('std')\n",
    "plt.title('variability of 1-step temporal differences')\n",
    "plt.axis([0, 397, 0.001, 0.1])\n",
    "plt.show()"
   ]
  },
  {
   "cell_type": "code",
   "execution_count": null,
   "metadata": {
    "scrolled": true
   },
   "outputs": [],
   "source": [
    "vmin, vmax"
   ]
  },
  {
   "cell_type": "code",
   "execution_count": null,
   "metadata": {
    "scrolled": true
   },
   "outputs": [],
   "source": [
    "plt.figure(figsize=(16,12))\n",
    "T_burnin = 10000\n",
    "T_ = 10000\n",
    "plt.imshow(dg_train[np.arange(T_+1)+ T_burnin].reshape(-1,(J+1)*K).T, aspect='auto', vmin=vmin, vmax=vmax)\n",
    "plt.xlabel('time')\n",
    "plt.ylabel('location')\n",
    "plt.title('numerical simulation')\n",
    "plt.colorbar()\n",
    "plt.show()"
   ]
  },
  {
   "cell_type": "code",
   "execution_count": null,
   "metadata": {
    "scrolled": true
   },
   "outputs": [],
   "source": [
    "dg_train[np.arange(T_+1)+ T_burnin][:,:,:].shape"
   ]
  },
  {
   "cell_type": "code",
   "execution_count": null,
   "metadata": {
    "scrolled": true
   },
   "outputs": [],
   "source": [
    "plt.figure(figsize=(16,12))\n",
    "T_burnin = 10000\n",
    "T_ = 10000\n",
    "plt.imshow(dg_train[np.arange(T_+1)+ T_burnin][:,:,0].reshape(-1,J+1).T, aspect='auto', vmin=vmin, vmax=vmax)\n",
    "plt.xlabel('time')\n",
    "plt.ylabel('location')\n",
    "plt.title('numerical simulation')\n",
    "plt.colorbar()\n",
    "plt.show()"
   ]
  },
  {
   "cell_type": "code",
   "execution_count": null,
   "metadata": {
    "scrolled": true
   },
   "outputs": [],
   "source": [
    "plt.figure(figsize=(8,9))\n",
    "plt.subplot(2,1,1)\n",
    "plt.imshow(dg_train[np.arange(100)+T_burnin].reshape(100,-1).T - dg_train[T_burnin].reshape(-1,1), aspect='auto')\n",
    "plt.xlabel('time')\n",
    "plt.ylabel('location')\n",
    "plt.title('numerical simulation, differences to yo')\n",
    "plt.colorbar()\n",
    "plt.subplot(2,1,2)\n",
    "plt.imshow(out_model[:100].reshape(100,-1).T - dg_train[T_burnin].reshape(-1,1), aspect='auto')\n",
    "plt.xlabel('time')\n",
    "plt.ylabel('location')\n",
    "plt.title('model-reconstructed simulation, differences to yo')\n",
    "plt.colorbar()\n",
    "\n",
    "plt.show()"
   ]
  },
  {
   "cell_type": "code",
   "execution_count": null,
   "metadata": {
    "scrolled": true
   },
   "outputs": [],
   "source": [
    "from L96_emulator.dataset import DatasetRelPred\n",
    "dg_train = DatasetRelPred(data=out, J=J, offset=temporal_offset, normalize=True, \n",
    "                          start=T_burnin, \n",
    "                          end=int(np.floor(out.shape[0]*0.8)))\n",
    "dg_val   = DatasetRelPred(data=out, J=J, offset=temporal_offset, normalize=True, \n",
    "                          start=int(np.ceil(out.shape[0]*0.8)), \n",
    "                          end=int(np.floor(out.shape[0]*0.9)))"
   ]
  },
  {
   "cell_type": "code",
   "execution_count": null,
   "metadata": {
    "scrolled": true
   },
   "outputs": [],
   "source": [
    "ct = 0\n",
    "s = np.zeros((474000, 11, 36))\n",
    "for batch in dg_train:\n",
    "    X,Y = batch\n",
    "    #print(X.shape, Y.shape)\n",
    "    \n",
    "    s[ct] = Y.copy()\n",
    "    ct += 1\n",
    "    if ct > 1000:\n",
    "        pass #break\n",
    "m = np.mean(s, axis=(0,2))\n",
    "s = np.std(s, axis=(0,2))\n",
    "print(m, s)"
   ]
  },
  {
   "cell_type": "code",
   "execution_count": null,
   "metadata": {
    "scrolled": true
   },
   "outputs": [],
   "source": [
    "ct"
   ]
  },
  {
   "cell_type": "code",
   "execution_count": null,
   "metadata": {
    "scrolled": true
   },
   "outputs": [],
   "source": []
  }
 ],
 "metadata": {
  "kernelspec": {
   "display_name": "Python 3",
   "language": "python",
   "name": "python3"
  },
  "language_info": {
   "codemirror_mode": {
    "name": "ipython",
    "version": 3
   },
   "file_extension": ".py",
   "mimetype": "text/x-python",
   "name": "python",
   "nbconvert_exporter": "python",
   "pygments_lexer": "ipython3",
   "version": "3.7.4"
  }
 },
 "nbformat": 4,
 "nbformat_minor": 2
}
