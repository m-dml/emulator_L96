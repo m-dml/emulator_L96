{
 "cells": [
  {
   "cell_type": "markdown",
   "metadata": {},
   "source": [
    "# check qualitative properties of L96 dynamical system"
   ]
  },
  {
   "cell_type": "code",
   "execution_count": null,
   "metadata": {
    "scrolled": true
   },
   "outputs": [],
   "source": [
    "%matplotlib inline\n",
    "import numpy as np\n",
    "import matplotlib.pyplot as plt\n",
    "import L96sim"
   ]
  },
  {
   "cell_type": "markdown",
   "metadata": {},
   "source": [
    "## define system"
   ]
  },
  {
   "cell_type": "code",
   "execution_count": null,
   "metadata": {},
   "outputs": [],
   "source": [
    "# one-level L96\n",
    "K = 36\n",
    "F = 10.\n",
    "\n",
    "# two-level L96\n",
    "J = 10\n",
    "h = 1.\n",
    "b = 10.\n",
    "c = 10."
   ]
  },
  {
   "cell_type": "markdown",
   "metadata": {},
   "source": [
    "# check Lyapunov exponents of system using DynamicalSystems.jl"
   ]
  },
  {
   "cell_type": "code",
   "execution_count": null,
   "metadata": {
    "scrolled": true
   },
   "outputs": [],
   "source": [
    "from julia.api import Julia\n",
    "jl = Julia(compiled_modules=False, runtime='/gpfs/home/nonnenma/julia-1.5.0/bin/julia')\n",
    "from julia import Main\n",
    "Main.eval(\"using DynamicalSystems, PyPlot\")\n",
    "\n",
    "Main.X_init = np.random.normal(size=(K*(J+1))) # initial state\n",
    "Main.dX_dt = np.zeros((K*(J+1)))               # container for diffeq updates\n",
    "Main.F = F\n",
    "Main.K = K\n",
    "if J > 0:\n",
    "    Main.h = h\n",
    "    Main.b = b\n",
    "    Main.c = c\n",
    "    Main.J = J"
   ]
  },
  {
   "cell_type": "code",
   "execution_count": null,
   "metadata": {},
   "outputs": [],
   "source": [
    "from L96sim.L96_base import f1_juliadef, f2_juliadef\n",
    "\n",
    "f1_juliadef = f1_juliadef.format(K=K)\n",
    "f2_juliadef = f2_juliadef.format(K=K, J=J)"
   ]
  },
  {
   "cell_type": "markdown",
   "metadata": {},
   "source": [
    "# computing only leading Lyapunov exponent via 'lyapunov'"
   ]
  },
  {
   "cell_type": "markdown",
   "metadata": {},
   "source": [
    "For one-level Lorenz96:\n",
    "- for $K=15, \\ldots, 35$, and different $F\\in[5,30]$ compare with figure 9a from Karimi et al. (2010) [1]\n",
    "\n",
    "[1] http://seb199.me.vt.edu/mpaul/wp-content/uploads/sites/12/2013/07/karimi2010.pdf"
   ]
  },
  {
   "cell_type": "code",
   "execution_count": null,
   "metadata": {},
   "outputs": [],
   "source": [
    "if J > 0:\n",
    "    print('two-level L96')\n",
    "    print(f'K={K}')\n",
    "    print(f'J={J}')\n",
    "    print(f'F,h,b,c={F,h,b,c}')\n",
    "    Main.eval(f2_juliadef)\n",
    "    Main.eval(\"out = f(dX_dt, X_init, [F,h,b,c], 0.0)\") # test evaluation\n",
    "    Main.eval(\"ds = ContinuousDynamicalSystem(f, X_init, [K,J,F,h,b,c])\")\n",
    "else:\n",
    "    print('one-level L96')\n",
    "    print(f'K, F={K, F}')\n",
    "    Main.eval(f1_juliadef)\n",
    "    Main.eval(\"out = f(dX_dt, X_init, [F], 0.0)\") # test evaluation\n",
    "    Main.eval(\"ds = ContinuousDynamicalSystem(f, X_init, [K,F])\")\n",
    "\n",
    "Main.eval(\"λ1 = lyapunov(ds, 100.0, dt = 1.0, Ttr = 1000.0)\")\n",
    "print('λ1', Main.λ1)"
   ]
  },
  {
   "cell_type": "markdown",
   "metadata": {},
   "source": [
    "# computing all Lyapunov exponents via 'lyapunovs'"
   ]
  },
  {
   "cell_type": "markdown",
   "metadata": {},
   "source": [
    "For one-level Lorenz96:\n",
    "- for $K=40, \\ldots, 50$, $F=10$ compare with figure 5a from Karimi et al. (2010) [1]\n",
    "- for $K=40$, $F=20.$, Cooper et al. (2020) [2] suggest a leading Lyapunov exponent that's apparently around $\\approx 10$?\n",
    "\n",
    "For two-level Lorenz-96\n",
    "- for $18\\leq K \\leq 36$ and $10 \\leq J \\leq 30$ and $h=1$ compare with figure 1 of Carlu et al. (2020) [3]. Notice they add forcing $F_f = 6.$ to the fast variables!\n",
    "\n",
    "\n",
    "[1] http://seb199.me.vt.edu/mpaul/wp-content/uploads/sites/12/2013/07/karimi2010.pdf\n",
    "\n",
    "[2] https://journals.ametsoc.org/mwr/article/148/2/849/346170\n",
    "\n",
    "[3] https://npg.copernicus.org/articles/26/73/2019/"
   ]
  },
  {
   "cell_type": "code",
   "execution_count": null,
   "metadata": {},
   "outputs": [],
   "source": [
    "if J > 0:\n",
    "    print('two-level L96')\n",
    "    print(f'K={K}')\n",
    "    print(f'J={J}')    \n",
    "    print(f'F,h,b,c={F,h,b,c}')\n",
    "    Main.eval(f2_juliadef)\n",
    "    Main.eval(\"out = f(dX_dt, X_init, [K,J,F,h,b,c], 0.0)\") # test evaluation\n",
    "    Main.eval(\"ds = ContinuousDynamicalSystem(f, X_init, [K,J,F,h,b,c])\")\n",
    "else:\n",
    "    print('one-level L96')\n",
    "    print(f'K, F={K, F}')\n",
    "    Main.eval(f1_juliadef)\n",
    "    Main.eval(\"out = f(dX_dt, X_init, [K,F], 0.0)\") # test evaluation\n",
    "    Main.eval(\"ds = ContinuousDynamicalSystem(f, X_init, [K,F])\")\n",
    "\n",
    "Main.eval(\"λs = lyapunovs(ds, 100)\")\n",
    "print('λs', Main.λs)"
   ]
  },
  {
   "cell_type": "code",
   "execution_count": null,
   "metadata": {},
   "outputs": [],
   "source": []
  }
 ],
 "metadata": {
  "kernelspec": {
   "display_name": "Python 3",
   "language": "python",
   "name": "python3"
  },
  "language_info": {
   "codemirror_mode": {
    "name": "ipython",
    "version": 3
   },
   "file_extension": ".py",
   "mimetype": "text/x-python",
   "name": "python",
   "nbconvert_exporter": "python",
   "pygments_lexer": "ipython3",
   "version": "3.7.4"
  }
 },
 "nbformat": 4,
 "nbformat_minor": 2
}
